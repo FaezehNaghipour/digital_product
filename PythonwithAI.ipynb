{
  "nbformat": 4,
  "nbformat_minor": 0,
  "metadata": {
    "colab": {
      "provenance": [],
      "authorship_tag": "ABX9TyPmakNDhpCKnnbw6AB86ZcS",
      "include_colab_link": true
    },
    "kernelspec": {
      "name": "python3",
      "display_name": "Python 3"
    },
    "language_info": {
      "name": "python"
    }
  },
  "cells": [
    {
      "cell_type": "markdown",
      "metadata": {
        "id": "view-in-github",
        "colab_type": "text"
      },
      "source": [
        "<a href=\"https://colab.research.google.com/github/FaezehNaghipour/digital_product/blob/master/PythonwithAI.ipynb\" target=\"_parent\"><img src=\"https://colab.research.google.com/assets/colab-badge.svg\" alt=\"Open In Colab\"/></a>"
      ]
    },
    {
      "cell_type": "markdown",
      "source": [
        "# **Data in python**\n",
        "There are differens types of data in Python.\n",
        "# 1) **strings**\n",
        "strings are used to store and manipulate text."
      ],
      "metadata": {
        "id": "H5KxeK_H78bq"
      }
    },
    {
      "cell_type": "code",
      "source": [
        "print (\"hello, world\")"
      ],
      "metadata": {
        "id": "gefpGVgN9Ha2"
      },
      "execution_count": null,
      "outputs": []
    },
    {
      "cell_type": "code",
      "source": [
        "print ( \"my favorite drink is black tea\")"
      ],
      "metadata": {
        "id": "5uB5hsza9QdV"
      },
      "execution_count": null,
      "outputs": []
    },
    {
      "cell_type": "code",
      "source": [
        "print (\"¯\\_(ツ)_/¯\")"
      ],
      "metadata": {
        "id": "dE53N-_J9aV1"
      },
      "execution_count": null,
      "outputs": []
    },
    {
      "cell_type": "code",
      "source": [
        "print (\"3.58\")"
      ],
      "metadata": {
        "id": "pY18wxmN9lis"
      },
      "execution_count": null,
      "outputs": []
    },
    {
      "cell_type": "markdown",
      "source": [
        "# **Multiline strings**\n",
        "if i use triple quotation mark, i can store a multiline string."
      ],
      "metadata": {
        "id": "PMGjjDHX9rdd"
      }
    },
    {
      "cell_type": "code",
      "source": [
        "print(\"\"\" hi guys,\n",
        "     this is my first practice of python language \"\"\")"
      ],
      "metadata": {
        "colab": {
          "base_uri": "https://localhost:8080/"
        },
        "collapsed": true,
        "id": "K_w04-at-EYN",
        "outputId": "4c01da0d-a2ea-4342-bc1f-6f3566a00045"
      },
      "execution_count": 1,
      "outputs": [
        {
          "output_type": "stream",
          "name": "stdout",
          "text": [
            " hi guys,\n",
            "     this is may first practice of python language \n"
          ]
        }
      ]
    },
    {
      "cell_type": "markdown",
      "source": [
        "# **The type () fanction**\n",
        "In python, we can check the type of any data that we are using."
      ],
      "metadata": {
        "id": "HrdcfBgL-xeU"
      }
    },
    {
      "cell_type": "code",
      "source": [
        "type(\"faezeh\")"
      ],
      "metadata": {
        "colab": {
          "base_uri": "https://localhost:8080/"
        },
        "id": "iZwilAr0_L5V",
        "outputId": "0fd23b76-8f54-485e-dd38-6dbe525295e7"
      },
      "execution_count": 2,
      "outputs": [
        {
          "output_type": "execute_result",
          "data": {
            "text/plain": [
              "str"
            ]
          },
          "metadata": {},
          "execution_count": 2
        }
      ]
    },
    {
      "cell_type": "markdown",
      "source": [
        "using quotation make tell python can treat a number as text"
      ],
      "metadata": {
        "id": "gOcnvaSbERRA"
      }
    },
    {
      "cell_type": "code",
      "source": [
        "type(\"9.4\")"
      ],
      "metadata": {
        "colab": {
          "base_uri": "https://localhost:8080/"
        },
        "id": "ZVyTOC7QEKJB",
        "outputId": "00554730-901b-4629-d104-fac2076aa762"
      },
      "execution_count": 3,
      "outputs": [
        {
          "output_type": "execute_result",
          "data": {
            "text/plain": [
              "str"
            ]
          },
          "metadata": {},
          "execution_count": 3
        }
      ]
    },
    {
      "cell_type": "markdown",
      "source": [
        "# **2)intiger**\n",
        "the short terms of it is int, which is for describeing number"
      ],
      "metadata": {
        "id": "8coUJtk0AfIV"
      }
    },
    {
      "cell_type": "code",
      "source": [
        "print (500)"
      ],
      "metadata": {
        "colab": {
          "base_uri": "https://localhost:8080/"
        },
        "id": "_vWss9x5FL2A",
        "outputId": "72fdb5b9-f972-419f-8542-40991eb32025"
      },
      "execution_count": 4,
      "outputs": [
        {
          "output_type": "stream",
          "name": "stdout",
          "text": [
            "500\n"
          ]
        }
      ]
    },
    {
      "cell_type": "code",
      "source": [
        "type(500)"
      ],
      "metadata": {
        "colab": {
          "base_uri": "https://localhost:8080/"
        },
        "id": "zScY5HT6FQNQ",
        "outputId": "91f7dae1-6f3c-4664-c785-787cd1876c52"
      },
      "execution_count": 5,
      "outputs": [
        {
          "output_type": "execute_result",
          "data": {
            "text/plain": [
              "int"
            ]
          },
          "metadata": {},
          "execution_count": 5
        }
      ]
    },
    {
      "cell_type": "markdown",
      "source": [
        "# **3) Float**\n",
        "For defining decimal number"
      ],
      "metadata": {
        "id": "Dpf8b7haFVl4"
      }
    },
    {
      "cell_type": "code",
      "source": [
        "print(4.88)"
      ],
      "metadata": {
        "colab": {
          "base_uri": "https://localhost:8080/"
        },
        "id": "Sd2efEnXGAlA",
        "outputId": "f6a2e531-9fdd-437e-dd37-231cd3e3f527"
      },
      "execution_count": 6,
      "outputs": [
        {
          "output_type": "stream",
          "name": "stdout",
          "text": [
            "4.88\n"
          ]
        }
      ]
    },
    {
      "cell_type": "code",
      "source": [
        "type(4.88)"
      ],
      "metadata": {
        "colab": {
          "base_uri": "https://localhost:8080/"
        },
        "id": "H6VM_xWlGEmP",
        "outputId": "1388ba37-7009-479d-bd46-cc0b5cbc751c"
      },
      "execution_count": 7,
      "outputs": [
        {
          "output_type": "execute_result",
          "data": {
            "text/plain": [
              "float"
            ]
          },
          "metadata": {},
          "execution_count": 7
        }
      ]
    },
    {
      "cell_type": "markdown",
      "source": [
        "# **calculation in python**\n",
        "Python works great for quick arithmetic operations.For instance we want to compute the total number of students at school"
      ],
      "metadata": {
        "id": "iweVfKV-GLfy"
      }
    },
    {
      "cell_type": "code",
      "source": [
        "print (28+36+48+25+31+33)"
      ],
      "metadata": {
        "colab": {
          "base_uri": "https://localhost:8080/"
        },
        "id": "P_4ad4T_Hslf",
        "outputId": "c2b1102d-212d-4844-a783-7ece2c2b0265"
      },
      "execution_count": 8,
      "outputs": [
        {
          "output_type": "stream",
          "name": "stdout",
          "text": [
            "201\n"
          ]
        }
      ]
    },
    {
      "cell_type": "markdown",
      "source": [
        "# ** Order of opereation **"
      ],
      "metadata": {
        "id": "rIFaNuH8IKTH"
      }
    },
    {
      "cell_type": "code",
      "source": [
        "print (55+65*2/3)"
      ],
      "metadata": {
        "colab": {
          "base_uri": "https://localhost:8080/"
        },
        "id": "ivVNXiTGH2v-",
        "outputId": "3c2c9d36-95c7-46c4-a773-4d7fab9708f0"
      },
      "execution_count": 9,
      "outputs": [
        {
          "output_type": "stream",
          "name": "stdout",
          "text": [
            "98.33333333333334\n"
          ]
        }
      ]
    },
    {
      "cell_type": "code",
      "source": [
        "print( (55+65)*2/3)"
      ],
      "metadata": {
        "colab": {
          "base_uri": "https://localhost:8080/"
        },
        "id": "rZVRkk0xH-qY",
        "outputId": "2d94bce4-89b6-4f1d-ba00-65542adb70cc"
      },
      "execution_count": 10,
      "outputs": [
        {
          "output_type": "stream",
          "name": "stdout",
          "text": [
            "80.0\n"
          ]
        }
      ]
    }
  ]
}